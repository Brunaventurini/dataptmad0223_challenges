{
 "cells": [
  {
   "cell_type": "code",
   "execution_count": 32,
   "id": "f8436428",
   "metadata": {},
   "outputs": [],
   "source": [
    "def group(arr, idx):\n",
    "  return(arr)"
   ]
  },
  {
   "cell_type": "code",
   "execution_count": 46,
   "id": "5627460e",
   "metadata": {},
   "outputs": [
    {
     "data": {
      "text/plain": [
       "([1, 6, 3, 20],)"
      ]
     },
     "execution_count": 46,
     "metadata": {},
     "output_type": "execute_result"
    }
   ],
   "source": [
    "arr_01= [[1, 6, 2, 10],\n",
    "         [8, 9, 4, 11],\n",
    "         [9, 8, 7, 12],\n",
    "         [1, 6, 3, 20]]\n"
   ]
  },
  {
   "cell_type": "code",
   "execution_count": 50,
   "id": "5bddcffd",
   "metadata": {},
   "outputs": [],
   "source": [
    "idx_01= [0,1]"
   ]
  },
  {
   "cell_type": "code",
   "execution_count": 51,
   "id": "c3fb48f4",
   "metadata": {},
   "outputs": [
    {
     "data": {
      "text/plain": [
       "(1, 6)"
      ]
     },
     "execution_count": 51,
     "metadata": {},
     "output_type": "execute_result"
    }
   ],
   "source": [
    "tuple([arr_01[0][i] for i in idx_01])"
   ]
  },
  {
   "cell_type": "code",
   "execution_count": 52,
   "id": "d3de2d87",
   "metadata": {},
   "outputs": [
    {
     "data": {
      "text/plain": [
       "[(1, 6)]"
      ]
     },
     "execution_count": 52,
     "metadata": {},
     "output_type": "execute_result"
    }
   ],
   "source": [
    "[tuple([arr_01[pos][i] for i in idx_01]) for pos in range(len(arr_01))]"
   ]
  },
  {
   "cell_type": "code",
   "execution_count": null,
   "id": "ba45b9a1",
   "metadata": {},
   "outputs": [],
   "source": []
  },
  {
   "cell_type": "code",
   "execution_count": null,
   "id": "8c73f0bd",
   "metadata": {},
   "outputs": [],
   "source": []
  }
 ],
 "metadata": {
  "kernelspec": {
   "display_name": "Python [conda env:m1_env]",
   "language": "python",
   "name": "conda-env-m1_env-py"
  },
  "language_info": {
   "codemirror_mode": {
    "name": "ipython",
    "version": 3
   },
   "file_extension": ".py",
   "mimetype": "text/x-python",
   "name": "python",
   "nbconvert_exporter": "python",
   "pygments_lexer": "ipython3",
   "version": "3.9.16"
  }
 },
 "nbformat": 4,
 "nbformat_minor": 5
}
