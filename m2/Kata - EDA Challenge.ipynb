{
 "cells": [
  {
   "cell_type": "code",
   "execution_count": 1,
   "id": "19c41ba7",
   "metadata": {},
   "outputs": [
    {
     "data": {
      "text/html": [
       "        <script type=\"text/javascript\">\n",
       "        window.PlotlyConfig = {MathJaxConfig: 'local'};\n",
       "        if (window.MathJax && window.MathJax.Hub && window.MathJax.Hub.Config) {window.MathJax.Hub.Config({SVG: {font: \"STIX-Web\"}});}\n",
       "        if (typeof require !== 'undefined') {\n",
       "        require.undef(\"plotly\");\n",
       "        requirejs.config({\n",
       "            paths: {\n",
       "                'plotly': ['https://cdn.plot.ly/plotly-2.20.0.min']\n",
       "            }\n",
       "        });\n",
       "        require(['plotly'], function(Plotly) {\n",
       "            window._Plotly = Plotly;\n",
       "        });\n",
       "        }\n",
       "        </script>\n",
       "        "
      ]
     },
     "metadata": {},
     "output_type": "display_data"
    }
   ],
   "source": [
    "import sys\n",
    "import re\n",
    "\n",
    "import numpy as np\n",
    "import pandas as pd\n",
    "\n",
    "import plotly.express as px\n",
    "import cufflinks as cf\n",
    "cf.go_offline()\n",
    "\n",
    "import seaborn as sns\n",
    "import matplotlib.pyplot as plt\n",
    "\n",
    "import sqlite3\n",
    "import duckdb"
   ]
  },
  {
   "cell_type": "code",
   "execution_count": 2,
   "id": "dcc3c2af",
   "metadata": {
    "scrolled": true
   },
   "outputs": [],
   "source": [
    "# read dataset\n",
    "\n",
    "conn = duckdb.connect('diamonds_train.db')"
   ]
  },
  {
   "cell_type": "code",
   "execution_count": 3,
   "id": "8c3e8a0e",
   "metadata": {},
   "outputs": [
    {
     "name": "stdout",
     "output_type": "stream",
     "text": [
      "('diamonds_train', 'main', 'diamonds_dimensions', 'BASE TABLE', None, None, None, None, None, 'YES', 'NO', None)\n",
      "('diamonds_train', 'main', 'diamonds_transactional', 'BASE TABLE', None, None, None, None, None, 'YES', 'NO', None)\n",
      "('diamonds_train', 'main', 'diamonds_properties', 'BASE TABLE', None, None, None, None, None, 'YES', 'NO', None)\n",
      "('diamonds_train', 'main', 'diamonds_cut', 'BASE TABLE', None, None, None, None, None, 'YES', 'NO', None)\n",
      "('diamonds_train', 'main', 'diamonds_color', 'BASE TABLE', None, None, None, None, None, 'YES', 'NO', None)\n",
      "('diamonds_train', 'main', 'diamonds_clarity', 'BASE TABLE', None, None, None, None, None, 'YES', 'NO', None)\n",
      "('diamonds_train', 'main', 'diamonds_city', 'BASE TABLE', None, None, None, None, None, 'YES', 'NO', None)\n"
     ]
    }
   ],
   "source": [
    "# criando um cursor\n",
    "cursor = conn.cursor()\n",
    "\n",
    "# executando uma query\n",
    "cursor.execute('SELECT * FROM system.information_schema.tables')\n",
    "\n",
    "# iterando sobre os resultados\n",
    "for row in cursor.fetchall():\n",
    "    print(row)"
   ]
  },
  {
   "cell_type": "code",
   "execution_count": 4,
   "id": "042ff78c",
   "metadata": {},
   "outputs": [
    {
     "name": "stdout",
     "output_type": "stream",
     "text": [
      "[('diamonds_dimensions',), ('diamonds_transactional',), ('diamonds_properties',), ('diamonds_cut',), ('diamonds_color',), ('diamonds_clarity',), ('diamonds_city',)]\n"
     ]
    }
   ],
   "source": [
    "#descobrindo tabelas\n",
    "cursor.execute(\"SELECT name FROM sqlite_master WHERE type='table'\")\n",
    "tables = cursor.fetchall()\n",
    "print(tables)\n"
   ]
  },
  {
   "cell_type": "code",
   "execution_count": 5,
   "id": "74bb137d",
   "metadata": {},
   "outputs": [
    {
     "name": "stdout",
     "output_type": "stream",
     "text": [
      "                                              city_id           city\n",
      "0   0013c01fe0d094209b8bd3d23b8f96dbabcd01ddd2a039...      Amsterdam\n",
      "1   1e73b1647343b286269d517e6f07e6e07ccef10cd7b785...         Zurich\n",
      "2   2bd25cd960aba8b706e2b67f2bb38b750ee5384b0e9883...      Las Vegas\n",
      "3   5a59ef2e40c5f89adb8c0c6ad0a8019b0e252fff530cf2...  New York City\n",
      "4   5dd272b4f316b776a7b8e3d0894b37e1e42be3d5d3b204...          Paris\n",
      "5   68371d5bdaab31b5cbc25fbf94b8f9c1238294fc50e715...       Tel Aviv\n",
      "6   6c425048aa7badd9d84615bd8620ca1864efd81cfdb69d...          Dubai\n",
      "7   89c7286890f7347ab235234e74d406596a127ae3679042...       Kimberly\n",
      "8   ba04d229e496b8383a4df91f5e77c194a95cf1a069b0b2...          Surat\n",
      "9   ca3aa21a5b70c3e88cc6336682c8c7da928a0c66a5ead4...        Antwerp\n",
      "10  e9c722cbefc2f055ae60b4e2cbe73a2d99537eab0c37f3...         Madrid\n",
      "11  ecc0e7dc084f141b29479058967d0bc07dee25d9690a98...         London\n",
      "12  ed76f191621cf6ed77eab6a8013d1cb4bdfa89a75a24aa...     Luxembourg\n"
     ]
    }
   ],
   "source": [
    "#criando tabela\n",
    "\n",
    "d_city = conn.execute(\"SELECT * FROM diamonds_city\").fetch_df()\n",
    "print(d_city)"
   ]
  },
  {
   "cell_type": "code",
   "execution_count": 6,
   "id": "0f72da62",
   "metadata": {},
   "outputs": [
    {
     "name": "stdout",
     "output_type": "stream",
     "text": [
      "                                              cut_id        cut\n",
      "0  388655e25e91872329272fc10128ef5354b3b19a05d7e8...  Very Good\n",
      "1  4e3cfaa334cbafb57a399a98fad8d3812ece460018f457...      Ideal\n",
      "2  c939327ca16dcf97ca32521d8b834bf1de16573d21deda...       Good\n",
      "3  de88c121a82a06352bf1aaceba20578356408a334ba046...    Premium\n",
      "4  f7b19afcde965ea4942b878d266f89f8ba9a5a833e60f7...       Fair\n"
     ]
    }
   ],
   "source": [
    "d_clarity = conn.execute(\"SELECT * FROM diamonds_cut\").fetch_df()\n",
    "print(d_clarity)"
   ]
  },
  {
   "cell_type": "code",
   "execution_count": 15,
   "id": "ffcf5cce",
   "metadata": {},
   "outputs": [
    {
     "data": {
      "text/html": [
       "<div>\n",
       "<style scoped>\n",
       "    .dataframe tbody tr th:only-of-type {\n",
       "        vertical-align: middle;\n",
       "    }\n",
       "\n",
       "    .dataframe tbody tr th {\n",
       "        vertical-align: top;\n",
       "    }\n",
       "\n",
       "    .dataframe thead th {\n",
       "        text-align: right;\n",
       "    }\n",
       "</style>\n",
       "<table border=\"1\" class=\"dataframe\">\n",
       "  <thead>\n",
       "    <tr style=\"text-align: right;\">\n",
       "      <th></th>\n",
       "      <th>cut_id</th>\n",
       "      <th>cut</th>\n",
       "    </tr>\n",
       "  </thead>\n",
       "  <tbody>\n",
       "    <tr>\n",
       "      <th>0</th>\n",
       "      <td>388655e25e91872329272fc10128ef5354b3b19a05d7e8...</td>\n",
       "      <td>Very Good</td>\n",
       "    </tr>\n",
       "    <tr>\n",
       "      <th>1</th>\n",
       "      <td>4e3cfaa334cbafb57a399a98fad8d3812ece460018f457...</td>\n",
       "      <td>Ideal</td>\n",
       "    </tr>\n",
       "    <tr>\n",
       "      <th>2</th>\n",
       "      <td>c939327ca16dcf97ca32521d8b834bf1de16573d21deda...</td>\n",
       "      <td>Good</td>\n",
       "    </tr>\n",
       "    <tr>\n",
       "      <th>3</th>\n",
       "      <td>de88c121a82a06352bf1aaceba20578356408a334ba046...</td>\n",
       "      <td>Premium</td>\n",
       "    </tr>\n",
       "    <tr>\n",
       "      <th>4</th>\n",
       "      <td>f7b19afcde965ea4942b878d266f89f8ba9a5a833e60f7...</td>\n",
       "      <td>Fair</td>\n",
       "    </tr>\n",
       "  </tbody>\n",
       "</table>\n",
       "</div>"
      ],
      "text/plain": [
       "                                              cut_id        cut\n",
       "0  388655e25e91872329272fc10128ef5354b3b19a05d7e8...  Very Good\n",
       "1  4e3cfaa334cbafb57a399a98fad8d3812ece460018f457...      Ideal\n",
       "2  c939327ca16dcf97ca32521d8b834bf1de16573d21deda...       Good\n",
       "3  de88c121a82a06352bf1aaceba20578356408a334ba046...    Premium\n",
       "4  f7b19afcde965ea4942b878d266f89f8ba9a5a833e60f7...       Fair"
      ]
     },
     "execution_count": 15,
     "metadata": {},
     "output_type": "execute_result"
    }
   ],
   "source": [
    "d_clarity.head(10)"
   ]
  },
  {
   "cell_type": "code",
   "execution_count": 21,
   "id": "5828c897",
   "metadata": {},
   "outputs": [
    {
     "ename": "NameError",
     "evalue": "name 'diamonds_city' is not defined",
     "output_type": "error",
     "traceback": [
      "\u001b[1;31m---------------------------------------------------------------------------\u001b[0m",
      "\u001b[1;31mNameError\u001b[0m                                 Traceback (most recent call last)",
      "Cell \u001b[1;32mIn[21], line 17\u001b[0m\n\u001b[0;32m     14\u001b[0m \u001b[38;5;28;01mfor\u001b[39;00m row \u001b[38;5;129;01min\u001b[39;00m results:\n\u001b[0;32m     15\u001b[0m     \u001b[38;5;28mprint\u001b[39m(row)\n\u001b[1;32m---> 17\u001b[0m diamonds_city\u001b[38;5;241m.\u001b[39mhead()\n",
      "\u001b[1;31mNameError\u001b[0m: name 'diamonds_city' is not defined"
     ]
    }
   ],
   "source": [
    "# SQL query to join 7 tables based on a common column\n",
    "query = \"\"\"\n",
    "SELECT *\n",
    "FROM diamonds_city\n",
    "JOIN diamonds_clarity ON city_id = clarity_id\n",
    "JOIN diamonds_color ON clarity_id = color_id\n",
    "\"\"\"\n",
    "\n",
    "# execute the query and fetch the results\n",
    "cursor.execute(query)\n",
    "results = cursor.fetchall()\n",
    "\n",
    "# print the results\n",
    "for row in results:\n",
    "    print(row)\n"
   ]
  },
  {
   "cell_type": "code",
   "execution_count": null,
   "id": "6c7c5b35",
   "metadata": {},
   "outputs": [],
   "source": []
  },
  {
   "cell_type": "code",
   "execution_count": null,
   "id": "d36ed7f8",
   "metadata": {},
   "outputs": [],
   "source": []
  }
 ],
 "metadata": {
  "kernelspec": {
   "display_name": "Python [conda env:m2_env]",
   "language": "python",
   "name": "conda-env-m2_env-py"
  },
  "language_info": {
   "codemirror_mode": {
    "name": "ipython",
    "version": 3
   },
   "file_extension": ".py",
   "mimetype": "text/x-python",
   "name": "python",
   "nbconvert_exporter": "python",
   "pygments_lexer": "ipython3",
   "version": "3.11.2"
  }
 },
 "nbformat": 4,
 "nbformat_minor": 5
}
