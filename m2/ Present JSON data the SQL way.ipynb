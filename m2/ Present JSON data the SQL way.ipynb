{
 "cells": [
  {
   "cell_type": "code",
   "execution_count": null,
   "id": "7d9a1153",
   "metadata": {},
   "outputs": [],
   "source": [
    "SELECT\n",
    "  data->>'first_name' AS first_name,\n",
    "  data->>'last_name' AS last_name,\n",
    "  EXTRACT(YEAR FROM AGE(CURRENT_DATE, (data->>'date_of_birth')::date)) AS age,\n",
    "  CASE\n",
    "    WHEN json_array_length(data->'email_addresses') > 0 THEN (data->'email_addresses'->>0)::text\n",
    "    ELSE 'None'\n",
    "  END AS email_address\n",
    "FROM users\n",
    "ORDER BY first_name, last_name;"
   ]
  }
 ],
 "metadata": {
  "kernelspec": {
   "display_name": "Python [conda env:m2_env]",
   "language": "python",
   "name": "conda-env-m2_env-py"
  },
  "language_info": {
   "codemirror_mode": {
    "name": "ipython",
    "version": 3
   },
   "file_extension": ".py",
   "mimetype": "text/x-python",
   "name": "python",
   "nbconvert_exporter": "python",
   "pygments_lexer": "ipython3",
   "version": "3.11.2"
  }
 },
 "nbformat": 4,
 "nbformat_minor": 5
}
