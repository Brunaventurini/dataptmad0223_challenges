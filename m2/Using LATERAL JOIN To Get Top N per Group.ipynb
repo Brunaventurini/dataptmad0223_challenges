{
 "cells": [
  {
   "cell_type": "code",
   "execution_count": 1,
   "id": "243e223d",
   "metadata": {},
   "outputs": [
    {
     "ename": "SyntaxError",
     "evalue": "invalid syntax (2992344914.py, line 1)",
     "output_type": "error",
     "traceback": [
      "\u001b[1;36m  Cell \u001b[1;32mIn[1], line 1\u001b[1;36m\u001b[0m\n\u001b[1;33m    SELECT c.id AS category_id, c.category, p.title, p.views, p.id AS post_id\u001b[0m\n\u001b[1;37m           ^\u001b[0m\n\u001b[1;31mSyntaxError\u001b[0m\u001b[1;31m:\u001b[0m invalid syntax\n"
     ]
    }
   ],
   "source": [
    "SELECT c.id AS category_id, c.category, p.title, p.views, p.id AS post_id\n",
    "FROM categories c\n",
    "LEFT JOIN LATERAL (\n",
    "    SELECT title, views, id\n",
    "    FROM posts\n",
    "    WHERE category_id = c.id\n",
    "    ORDER BY views DESC, id\n",
    "    LIMIT 2\n",
    ") p ON true\n",
    "ORDER BY c.category, p.views DESC NULLS LAST, p.id;"
   ]
  }
 ],
 "metadata": {
  "kernelspec": {
   "display_name": "Python [conda env:m2_env]",
   "language": "python",
   "name": "conda-env-m2_env-py"
  },
  "language_info": {
   "codemirror_mode": {
    "name": "ipython",
    "version": 3
   },
   "file_extension": ".py",
   "mimetype": "text/x-python",
   "name": "python",
   "nbconvert_exporter": "python",
   "pygments_lexer": "ipython3",
   "version": "3.11.2"
  }
 },
 "nbformat": 4,
 "nbformat_minor": 5
}
