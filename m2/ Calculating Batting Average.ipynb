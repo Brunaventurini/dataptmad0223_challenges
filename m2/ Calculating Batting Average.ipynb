{
 "cells": [
  {
   "cell_type": "code",
   "execution_count": 2,
   "id": "885c3b49",
   "metadata": {},
   "outputs": [
    {
     "ename": "SyntaxError",
     "evalue": "unmatched ')' (3479425676.py, line 2)",
     "output_type": "error",
     "traceback": [
      "\u001b[1;36m  Cell \u001b[1;32mIn[2], line 2\u001b[1;36m\u001b[0m\n\u001b[1;33m    LPAD(CAST(ROUND((hits::float / at_bats) * 1000) / 1000, 3) AS TEXT), 6, '0') AS batting_average\u001b[0m\n\u001b[1;37m                                                                               ^\u001b[0m\n\u001b[1;31mSyntaxError\u001b[0m\u001b[1;31m:\u001b[0m unmatched ')'\n"
     ]
    }
   ],
   "source": [
    "SELECT player_name, games, \n",
    "       LPAD(CAST(ROUND((hits::float / at_bats) * 1000) / 1000, 3) AS TEXT, 6, '0') AS batting_average\n",
    "FROM yankees\n",
    "WHERE at_bats >= 100\n",
    "ORDER BY batting_average DESC;\n"
   ]
  },
  {
   "cell_type": "code",
   "execution_count": null,
   "id": "a693888d",
   "metadata": {},
   "outputs": [],
   "source": []
  }
 ],
 "metadata": {
  "kernelspec": {
   "display_name": "Python [conda env:m2_env]",
   "language": "python",
   "name": "conda-env-m2_env-py"
  },
  "language_info": {
   "codemirror_mode": {
    "name": "ipython",
    "version": 3
   },
   "file_extension": ".py",
   "mimetype": "text/x-python",
   "name": "python",
   "nbconvert_exporter": "python",
   "pygments_lexer": "ipython3",
   "version": "3.11.2"
  }
 },
 "nbformat": 4,
 "nbformat_minor": 5
}
