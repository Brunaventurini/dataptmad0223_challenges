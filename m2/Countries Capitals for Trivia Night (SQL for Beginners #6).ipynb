{
 "cells": [
  {
   "cell_type": "code",
   "execution_count": null,
   "id": "47545e04",
   "metadata": {},
   "outputs": [],
   "source": [
    "SELECT capital\n",
    "FROM countries\n",
    "WHERE (continent LIKE 'Africa' OR continent LIKE 'Afrika')\n",
    "  AND country LIKE 'E%'\n",
    "ORDER BY capital ASC\n",
    "LIMIT 3;\n"
   ]
  }
 ],
 "metadata": {
  "kernelspec": {
   "display_name": "Python [conda env:m2_env]",
   "language": "python",
   "name": "conda-env-m2_env-py"
  },
  "language_info": {
   "codemirror_mode": {
    "name": "ipython",
    "version": 3
   },
   "file_extension": ".py",
   "mimetype": "text/x-python",
   "name": "python",
   "nbconvert_exporter": "python",
   "pygments_lexer": "ipython3",
   "version": "3.11.2"
  }
 },
 "nbformat": 4,
 "nbformat_minor": 5
}
