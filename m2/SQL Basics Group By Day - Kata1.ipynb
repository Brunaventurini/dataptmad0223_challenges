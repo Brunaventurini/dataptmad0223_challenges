{
 "cells": [
  {
   "cell_type": "code",
   "execution_count": null,
   "id": "3454596a",
   "metadata": {},
   "outputs": [],
   "source": [
    "SELECT * FROM events;\n",
    "SELECT CAST(DATE_TRUNC('day', created_at) AS DATE) AS day, description, COUNT(*) AS count\n",
    "FROM events\n",
    "WHERE name = 'trained'\n",
    "GROUP BY day, description\n",
    "ORDER BY day;"
   ]
  }
 ],
 "metadata": {
  "kernelspec": {
   "display_name": "Python [conda env:m2_env]",
   "language": "python",
   "name": "conda-env-m2_env-py"
  },
  "language_info": {
   "codemirror_mode": {
    "name": "ipython",
    "version": 3
   },
   "file_extension": ".py",
   "mimetype": "text/x-python",
   "name": "python",
   "nbconvert_exporter": "python",
   "pygments_lexer": "ipython3",
   "version": "3.11.2"
  }
 },
 "nbformat": 4,
 "nbformat_minor": 5
}
