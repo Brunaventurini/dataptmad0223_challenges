{
 "cells": [
  {
   "cell_type": "code",
   "execution_count": null,
   "id": "73c6eecd",
   "metadata": {},
   "outputs": [],
   "source": [
    "SELECT\n",
    "    ROW_NUMBER() OVER (ORDER BY SUM(points) DESC) AS rank,\n",
    "    CASE\n",
    "        WHEN clan = '' THEN '[no clan specified]'\n",
    "        ELSE clan\n",
    "    END AS clan,\n",
    "    SUM(points) AS total_points,\n",
    "    COUNT(*) AS total_people\n",
    "FROM\n",
    "    people\n",
    "GROUP BY\n",
    "    clan\n",
    "ORDER BY\n",
    "    total_points DESC;"
   ]
  }
 ],
 "metadata": {
  "kernelspec": {
   "display_name": "Python [conda env:m2_env]",
   "language": "python",
   "name": "conda-env-m2_env-py"
  },
  "language_info": {
   "codemirror_mode": {
    "name": "ipython",
    "version": 3
   },
   "file_extension": ".py",
   "mimetype": "text/x-python",
   "name": "python",
   "nbconvert_exporter": "python",
   "pygments_lexer": "ipython3",
   "version": "3.11.2"
  }
 },
 "nbformat": 4,
 "nbformat_minor": 5
}
