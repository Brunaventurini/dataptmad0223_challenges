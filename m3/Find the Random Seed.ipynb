{
 "cells": [
  {
   "cell_type": "code",
   "execution_count": 3,
   "id": "09194de2",
   "metadata": {},
   "outputs": [
    {
     "name": "stdout",
     "output_type": "stream",
     "text": [
      "1\n"
     ]
    }
   ],
   "source": [
    "import random\n",
    "\n",
    "def find_random_seed(random_integers):\n",
    "    for seed in range(10000):\n",
    "        random.seed(seed)\n",
    "        generated_list = [random.randint(0, 100) for _ in range(len(random_integers))]\n",
    "        if generated_list == random_integers:\n",
    "            return seed\n",
    "    return None  # If no seed is found\n",
    "\n",
    "# Example usage\n",
    "input_list = [17, 72, 97, 8, 32, 15, 63, 97, 57, 60]\n",
    "random_seed = find_random_seed(input_list)\n",
    "print(random_seed)"
   ]
  },
  {
   "cell_type": "code",
   "execution_count": null,
   "id": "098916db",
   "metadata": {},
   "outputs": [],
   "source": []
  },
  {
   "cell_type": "code",
   "execution_count": null,
   "id": "3eb0fc4d",
   "metadata": {},
   "outputs": [],
   "source": []
  }
 ],
 "metadata": {
  "kernelspec": {
   "display_name": "Python 3 (ipykernel)",
   "language": "python",
   "name": "python3"
  },
  "language_info": {
   "codemirror_mode": {
    "name": "ipython",
    "version": 3
   },
   "file_extension": ".py",
   "mimetype": "text/x-python",
   "name": "python",
   "nbconvert_exporter": "python",
   "pygments_lexer": "ipython3",
   "version": "3.9.16"
  }
 },
 "nbformat": 4,
 "nbformat_minor": 5
}
