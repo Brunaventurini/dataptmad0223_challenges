{
 "cells": [
  {
   "cell_type": "code",
   "execution_count": 274,
   "id": "6336c26e",
   "metadata": {},
   "outputs": [],
   "source": [
    "class User(object):\n",
    "    def __init__(self, name, balance, checking_account):\n",
    "        self.name = name\n",
    "        self.balance = balance\n",
    "        self.checking_account = checking_account"
   ]
  },
  {
   "cell_type": "code",
   "execution_count": 275,
   "id": "007bd411",
   "metadata": {},
   "outputs": [],
   "source": [
    "\n",
    "\n",
    "        \n",
    "        \n",
    "    ##ainda nao foi feito\n",
    "    def add_cash(self, amount):\n",
    "        self.balance += amount\n",
    "        return f\"{self.name} has {self.balance}\"\n",
    "    \n",
    "Jeff = User(name = 'Jeff',\n",
    "           balance = 70,\n",
    "           checking_account = True)\n",
    "\n",
    "Joe = User(name = 'Joe',\n",
    "           balance = 70,\n",
    "           checking_account = True)\n",
    "\n",
    "Federico = User(name = 'Federico',\n",
    "                balance = 50,\n",
    "                checking_account = False)"
   ]
  },
  {
   "cell_type": "code",
   "execution_count": 276,
   "id": "51604587",
   "metadata": {},
   "outputs": [
    {
     "data": {
      "text/plain": [
       "'Jeff has 68'"
      ]
     },
     "execution_count": 276,
     "metadata": {},
     "output_type": "execute_result"
    }
   ],
   "source": [
    "Jeff.withdraw(2) "
   ]
  },
  {
   "cell_type": "code",
   "execution_count": 277,
   "id": "76d52576",
   "metadata": {},
   "outputs": [
    {
     "data": {
      "text/plain": [
       "'Joe has 120 and Jeff has 18'"
      ]
     },
     "execution_count": 277,
     "metadata": {},
     "output_type": "execute_result"
    }
   ],
   "source": [
    "Joe.check(Jeff, 50)"
   ]
  },
  {
   "cell_type": "code",
   "execution_count": null,
   "id": "3961cfaf",
   "metadata": {},
   "outputs": [],
   "source": []
  }
 ],
 "metadata": {
  "kernelspec": {
   "display_name": "Python 3 (ipykernel)",
   "language": "python",
   "name": "python3"
  },
  "language_info": {
   "codemirror_mode": {
    "name": "ipython",
    "version": 3
   },
   "file_extension": ".py",
   "mimetype": "text/x-python",
   "name": "python",
   "nbconvert_exporter": "python",
   "pygments_lexer": "ipython3",
   "version": "3.9.16"
  }
 },
 "nbformat": 4,
 "nbformat_minor": 5
}
