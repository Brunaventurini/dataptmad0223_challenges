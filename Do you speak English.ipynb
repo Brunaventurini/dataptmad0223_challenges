{
 "cells": [
  {
   "cell_type": "code",
   "execution_count": null,
   "id": "80601803",
   "metadata": {},
   "outputs": [],
   "source": [
    "def sp_eng(sentence): \n",
    "    normalized_sentence = sentence.lower()\n",
    "    return 'english' in normalized_sentence\n",
    "\n",
    "print(sp_eng(\"This is an English sentence.\"))  # True\n",
    "print(sp_eng(\"I can speak English.\"))  # True\n",
    "print(sp_eng(\"She prefers French over English.\"))  # True\n",
    "print(sp_eng(\"The book is in Spanish.\"))  # False"
   ]
  }
 ],
 "metadata": {
  "kernelspec": {
   "display_name": "Python [conda env:m1_env]",
   "language": "python",
   "name": "conda-env-m1_env-py"
  },
  "language_info": {
   "codemirror_mode": {
    "name": "ipython",
    "version": 3
   },
   "file_extension": ".py",
   "mimetype": "text/x-python",
   "name": "python",
   "nbconvert_exporter": "python",
   "pygments_lexer": "ipython3",
   "version": "3.9.16"
  }
 },
 "nbformat": 4,
 "nbformat_minor": 5
}
