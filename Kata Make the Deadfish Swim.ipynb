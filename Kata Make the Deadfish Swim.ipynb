{
 "cells": [
  {
   "cell_type": "code",
   "execution_count": 1,
   "id": "a4d8da85",
   "metadata": {},
   "outputs": [],
   "source": [
    "def parse(data):\n",
    "    count = 0 \n",
    "    list_1 = [] \n",
    "\n",
    "    for letter in data:\n",
    "        if letter==\"i\": \n",
    "            count = count+1\n",
    "        if letter==\"d\": \n",
    "            count = count-1\n",
    "        if letter==\"s\": \n",
    "            count = count**2\n",
    "        if letter==\"o\": \n",
    "            list_1.append(count)\n",
    "    return(list_1)"
   ]
  }
 ],
 "metadata": {
  "kernelspec": {
   "display_name": "Python 3 (ipykernel)",
   "language": "python",
   "name": "python3"
  },
  "language_info": {
   "codemirror_mode": {
    "name": "ipython",
    "version": 3
   },
   "file_extension": ".py",
   "mimetype": "text/x-python",
   "name": "python",
   "nbconvert_exporter": "python",
   "pygments_lexer": "ipython3",
   "version": "3.9.16"
  }
 },
 "nbformat": 4,
 "nbformat_minor": 5
}
